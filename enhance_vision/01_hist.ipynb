{
 "cells": [
  {
   "cell_type": "code",
   "execution_count": 2,
   "metadata": {},
   "outputs": [
    {
     "data": {
      "text/plain": [
       "99"
      ]
     },
     "execution_count": 2,
     "metadata": {},
     "output_type": "execute_result"
    }
   ],
   "source": [
    "import cv2\n",
    "import numpy as np\n",
    "def ImageHist(image, type):\n",
    "    color = (255,255,255)\n",
    "    windowsName = 'Gray'\n",
    "    if type == 31:\n",
    "        color = (255,0,0)\n",
    "        windowsName = 'B Hist'\n",
    "    elif type == 32:\n",
    "        color = (0,255,0)\n",
    "        windowsName = 'G Hist'\n",
    "    elif type == 33:\n",
    "        color = (0,0,255)\n",
    "        windowsName = 'R Hist'\n",
    "    # p1: image, p2: 用于计算直方图的通道, p3: 蒙板, p4: 直方图数值, p5: 值范围\n",
    "    hist = cv2.calcHist([image], [0], None, [256], [0.0, 255.0])\n",
    "    minV, maxV, minL, maxL = cv2.minMaxLoc(hist)\n",
    "    histImg = np.zeros([256,256,3], np.uint8)\n",
    "    for h in range(256):\n",
    "        intenNormal = int(hist[h]*256/maxV)\n",
    "        cv2.line(histImg, (h, 256), (h, 256-intenNormal), color)\n",
    "    cv2.imshow(windowsName, histImg)\n",
    "    return histImg\n",
    "img = cv2.imread('image0.jpg', 1)\n",
    "channels = cv2.split(img) # 分解图像为单个通道 R G B\n",
    "for i in range(0,3):\n",
    "    ImageHist(channels[i], 31+i)\n",
    "cv2.waitKey(0)"
   ]
  },
  {
   "cell_type": "code",
   "execution_count": null,
   "metadata": {},
   "outputs": [],
   "source": []
  }
 ],
 "metadata": {
  "kernelspec": {
   "display_name": "Python 3",
   "language": "python",
   "name": "python3"
  },
  "language_info": {
   "codemirror_mode": {
    "name": "ipython",
    "version": 3
   },
   "file_extension": ".py",
   "mimetype": "text/x-python",
   "name": "python",
   "nbconvert_exporter": "python",
   "pygments_lexer": "ipython3",
   "version": "3.6.7"
  }
 },
 "nbformat": 4,
 "nbformat_minor": 2
}
