{
 "cells": [
  {
   "cell_type": "code",
   "execution_count": 12,
   "metadata": {},
   "outputs": [
    {
     "name": "stdout",
     "output_type": "stream",
     "text": [
      "[ 1.  2.  3.  4.  5.  6.  7.  8.  9. 10. 11. 12. 13. 14. 15.]\n"
     ]
    },
    {
     "data": {
      "image/png": "[encoded data removed]",
      "text/plain": [
       "<Figure size 432x288 with 1 Axes>"
      ]
     },
     "metadata": {
      "needs_background": "light"
     },
     "output_type": "display_data"
    }
   ],
   "source": [
    "import tensorflow as tf\n",
    "import numpy as np\n",
    "import matplotlib.pyplot as plt\n",
    "date = np.linspace(1,15,15)\n",
    "endPrice = np.array([2511.90,2538.26,2510.68,2591.66,2732.98,2701.69,2701.29,2678.67,2726.50,2681.50,2739.17,2715.07,2823.58,2864.90,2919.08])\n",
    "beginPrice = np.array([2438.71,2500.88,2534.95,2512.52,2594.04,2743.26,2697.47,2695.24,2678.23,2722.13,2674.93,2744.13,2717.46,2832.73,2877.40])\n",
    "print(date)\n",
    "plt.figure()\n",
    "for i in range(0,15):\n",
    "    dateOne = np.zeros([2])\n",
    "    dateOne[0] = i\n",
    "    dateOne[1] = i\n",
    "    priceOne = np.zeros([2])\n",
    "    priceOne[0] = beginPrice[i]\n",
    "    priceOne[1] = endPrice[i]\n",
    "    if endPrice[i] > beginPrice[i]:\n",
    "        plt.plot(dateOne, priceOne, 'r', lw=8)\n",
    "    else:\n",
    "        plt.plot(dateOne, priceOne, 'g', lw=8)\n",
    "# plt.show()\n",
    "# A(15x1) * w1(1x10) + b1(1x10) = B(15x10)\n",
    "# B(15x10) * w2(10x1) + b2(15x1) = C(15x1)\n",
    "# A B C\n",
    "# A\n",
    "dateNormal = np.zeros([15,1])\n",
    "priceNormal = np.zeros([15,1])\n",
    "for i in range(0,15):\n",
    "    dateNormal[i,0] = i/14.0\n",
    "    priceNormal[i,0] = endPrice[i]/3000.0\n",
    "x = tf.placeholder(tf.float32, [None, 1])\n",
    "y = tf.placeholder(tf.float32, [None, 1])\n",
    "# B\n",
    "w1 = tf.Variable(tf.random_uniform([1,10], 0, 1))\n",
    "b1 = tf.Variable(tf.zeros([1,10]))\n",
    "wb1 = tf.matmul(x,w1)+b1\n",
    "layer1 = tf.nn.relu(wb1) # 激励函数\n",
    "# C\n",
    "w2 = tf.Variable(tf.random_uniform([10,1], 0, 1))\n",
    "b2 = tf.Variable(tf.zeros([15,1]))\n",
    "wb2 = tf.matmul(layer1, w2)+b2\n",
    "layer2 = tf.nn.relu(wb2)\n",
    "loss = tf.reduce_mean(tf.square(y-layer2)) # y是真实值，layer2是输出值\n",
    "train_step = tf.train.GradientDescentOptimizer(0.1).minimize(loss)\n",
    "with tf.Session() as sess:\n",
    "    sess.run(tf.global_variables_initializer())\n",
    "    for i in range(0,10000):\n",
    "        sess.run(train_step, feed_dict={x:dateNormal, y:priceNormal})\n",
    "    # w1w2 b1b2 A + wb -->layer2\n",
    "    pred = sess.run(layer2, feed_dict={x:dateNormal})\n",
    "    predPrice = np.zeros([15,1])\n",
    "    for i in range(1,15):\n",
    "        predPrice[i,0]=(pred*3000)[i,0]\n",
    "    plt.plot(date,predPrice,'b',lw=1)\n",
    "plt.show()\n"
   ]
  },
  {
   "cell_type": "code",
   "execution_count": null,
   "metadata": {},
   "outputs": [],
   "source": []
  },
  {
   "cell_type": "code",
   "execution_count": null,
   "metadata": {},
   "outputs": [],
   "source": []
  }
 ],
 "metadata": {
  "kernelspec": {
   "display_name": "Python 3",
   "language": "python",
   "name": "python3"
  },
  "language_info": {
   "codemirror_mode": {
    "name": "ipython",
    "version": 3
   },
   "file_extension": ".py",
   "mimetype": "text/x-python",
   "name": "python",
   "nbconvert_exporter": "python",
   "pygments_lexer": "ipython3",
   "version": "3.6.8"
  }
 },
 "nbformat": 4,
 "nbformat_minor": 2
}
