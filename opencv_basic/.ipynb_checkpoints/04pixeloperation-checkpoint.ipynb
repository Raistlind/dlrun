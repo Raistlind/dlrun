{
 "cells": [
  {
   "cell_type": "code",
   "execution_count": null,
   "metadata": {},
   "outputs": [
    {
     "name": "stdout",
     "output_type": "stream",
     "text": [
      "0 0 6\n"
     ]
    }
   ],
   "source": [
    "import cv2\n",
    "img = cv2.imread('130402161P2_300.jpg', 1)\n",
    "(b, g, r)=img[100,100]\n",
    "print(b,g,r)\n",
    "for i in range(1, 100):\n",
    "    img[10+i, 100] = (255, 0, 0)\n",
    "cv2.imshow('image', img)\n",
    "cv2.waitKey(0) # 0 ms"
   ]
  },
  {
   "cell_type": "code",
   "execution_count": null,
   "metadata": {},
   "outputs": [],
   "source": []
  }
 ],
 "metadata": {
  "kernelspec": {
   "display_name": "Python 3",
   "language": "python",
   "name": "python3"
  },
  "language_info": {
   "codemirror_mode": {
    "name": "ipython",
    "version": 3
   },
   "file_extension": ".py",
   "mimetype": "text/x-python",
   "name": "python",
   "nbconvert_exporter": "python",
   "pygments_lexer": "ipython3",
   "version": "3.6.7"
  }
 },
 "nbformat": 4,
 "nbformat_minor": 2
}
