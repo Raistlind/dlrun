{
 "cells": [
  {
   "cell_type": "code",
   "execution_count": null,
   "metadata": {},
   "outputs": [],
   "source": [
    "# 绘制线段\n",
    "import cv2\n",
    "import numpy as np\n",
    "newImageInfo = (500, 500, 3)\n",
    "dst = np.zeros(newImageInfo, np.uint8)\n",
    "# line\n",
    "cv2.line(dst, (100, 100), (400, 400), (0,0,255)) # p1: dst, p2:begin, p3:end, p4: color\n",
    "# p5: line width\n",
    "cv2.line(dst, (100, 200), (400, 200), (0,255,255), 20)\n",
    "# p6: line type\n",
    "cv2.line(dst, (100, 300), (400, 300), (0,255,0), 20, cv2.LINE_AA)\n",
    "\n",
    "cv2.line(dst, (200, 150), (50, 250), (25,100,255))\n",
    "cv2.line(dst, (50, 250), (400, 380), (25,100,255))\n",
    "cv2.line(dst, (400, 380), (200, 150), (25,100,255))\n",
    "\n",
    "cv2.imshow('dst', dst)\n",
    "cv2.waitKey(0)"
   ]
  },
  {
   "cell_type": "code",
   "execution_count": null,
   "metadata": {},
   "outputs": [],
   "source": []
  },
  {
   "cell_type": "code",
   "execution_count": null,
   "metadata": {},
   "outputs": [],
   "source": []
  }
 ],
 "metadata": {
  "kernelspec": {
   "display_name": "Python 3",
   "language": "python",
   "name": "python3"
  },
  "language_info": {
   "codemirror_mode": {
    "name": "ipython",
    "version": 3
   },
   "file_extension": ".py",
   "mimetype": "text/x-python",
   "name": "python",
   "nbconvert_exporter": "python",
   "pygments_lexer": "ipython3",
   "version": "3.6.8"
  }
 },
 "nbformat": 4,
 "nbformat_minor": 2
}
