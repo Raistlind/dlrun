{
 "cells": [
  {
   "cell_type": "code",
   "execution_count": null,
   "metadata": {},
   "outputs": [],
   "source": [
    "# 油画特效\n",
    "# 1, gray变灰 2, 划分成7*7或10*10等小方块，统计小方块灰度值 3, 划分灰度等级，比如：0-255 256个分成4段 640-63 64-127\n",
    "# 4, 灰度段中，灰度的像素统计 5, 用统计出来的平均值来替代像素值\n",
    "import cv2\n",
    "import numpy as np\n",
    "import random\n",
    "import math\n",
    "img = cv2.imread('../opencv_basic/130402161P2_300.jpg', 1)\n",
    "imgInfo = img.shape\n",
    "height = imgInfo[0]\n",
    "width = imgInfo[1]\n",
    "# step 1 gray\n",
    "gray = cv2.cvtColor(img, cv2.COLOR_BGR2GRAY)\n",
    "dst = np.zeros((height, width, 3), np.uint8)\n",
    "\n",
    "for i in range(4, height-4):\n",
    "    for j in range(4, width-4):\n",
    "        array1 = np.zeros(8,np.uint8)\n",
    "        for m in range(-4,4):\n",
    "            for n in range(-4,4):\n",
    "                p1 = int(gray[i+m,j+n]/32)\n",
    "                array1[p1] = array1[p1]+1\n",
    "        currentMax = array1[0]\n",
    "        l = 0\n",
    "        for k in range(0,8):\n",
    "            if currentMax < array1[k]:\n",
    "                currentMax = array1[k]\n",
    "                l = k\n",
    "        \n",
    "        for m in range(-4,4):\n",
    "            for n in range(-4,4):\n",
    "                if gray[i+m, j+n]>(1*32) and gray[i+m, j+n]<=((l+1)*32):\n",
    "                    (b, g, r) = img[i+m,j+n]\n",
    "        dst[i,j] = (b,g,r)\n",
    "\n",
    "cv2.imshow('dst', dst)\n",
    "cv2.waitKey(0)"
   ]
  },
  {
   "cell_type": "code",
   "execution_count": null,
   "metadata": {},
   "outputs": [],
   "source": []
  },
  {
   "cell_type": "code",
   "execution_count": null,
   "metadata": {},
   "outputs": [],
   "source": []
  }
 ],
 "metadata": {
  "kernelspec": {
   "display_name": "Python 3",
   "language": "python",
   "name": "python3"
  },
  "language_info": {
   "codemirror_mode": {
    "name": "ipython",
    "version": 3
   },
   "file_extension": ".py",
   "mimetype": "text/x-python",
   "name": "python",
   "nbconvert_exporter": "python",
   "pygments_lexer": "ipython3",
   "version": "3.6.8"
  }
 },
 "nbformat": 4,
 "nbformat_minor": 2
}
