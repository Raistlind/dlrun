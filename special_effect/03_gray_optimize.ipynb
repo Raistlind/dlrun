{
 "cells": [
  {
   "cell_type": "code",
   "execution_count": null,
   "metadata": {},
   "outputs": [],
   "source": [
    "# 对方法4进行优化 心理学计算公式  gray = r*0.299+g*0.587+b*0.114\n",
    "import cv2\n",
    "import numpy as np\n",
    "img = cv2.imread('../opencv_basic/130402161P2_300.jpg', 1)\n",
    "imgInfo = img.shape\n",
    "height = imgInfo[0]\n",
    "width = imgInfo[1]\n",
    "dst = np.zeros((height, width, 3), np.uint8)\n",
    "for i in range(0, height):\n",
    "    for j in range(0, width):\n",
    "        (b, g, r) = img[i,j]\n",
    "        b = int(b)\n",
    "        g = int(g)\n",
    "        r = int(r)\n",
    "        # gray = r*0.299+g*0.587+b*0.114\n",
    "        # gray = (r*1+g*2+b*1)/4 # 把浮点乘4取整，再除4，整数计算比浮点计算快，有误差，但可以接受。也可以乘更大的整数，越大误差越小\n",
    "        gray = (r+(g<<1)+b)>>2 # 用左移1位替代2倍，用右移2位替代除4， 移位操作比整数操作更快\n",
    "        dst[i,j] = np.uint8(gray)\n",
    "cv2.imshow('dst', dst)\n",
    "cv2.waitKey(0)"
   ]
  },
  {
   "cell_type": "code",
   "execution_count": null,
   "metadata": {},
   "outputs": [],
   "source": []
  }
 ],
 "metadata": {
  "kernelspec": {
   "display_name": "Python 3",
   "language": "python",
   "name": "python3"
  },
  "language_info": {
   "codemirror_mode": {
    "name": "ipython",
    "version": 3
   },
   "file_extension": ".py",
   "mimetype": "text/x-python",
   "name": "python",
   "nbconvert_exporter": "python",
   "pygments_lexer": "ipython3",
   "version": "3.6.8"
  }
 },
 "nbformat": 4,
 "nbformat_minor": 2
}
