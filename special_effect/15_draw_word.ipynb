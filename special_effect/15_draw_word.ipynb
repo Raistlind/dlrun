{
 "cells": [
  {
   "cell_type": "code",
   "execution_count": null,
   "metadata": {},
   "outputs": [],
   "source": [
    "# 文字图片绘制\n",
    "import cv2\n",
    "import numpy as np\n",
    "img = cv2.imread('image.jpg', 1)\n",
    "font = cv2.FONT_HERSHEY_SIMPLEX\n",
    "cv2.rectangle(img, (200,100), (500,400), (0,255,0), 3)\n",
    "# p1:dst, p2:文字内容, p3:坐标, p4:字体, p5:字号, p6:color, p7:粗细, p8:line type\n",
    "cv2.putText(img, 'RaistlinD', (100, 300), font, 1, (200,100,255), 2, cv2.LINE_AA)\n",
    "cv2.imshow('dst', img)\n",
    "cv2.waitKey(0)"
   ]
  },
  {
   "cell_type": "code",
   "execution_count": null,
   "metadata": {},
   "outputs": [],
   "source": [
    "import cv2\n",
    "import numpy as np\n",
    "img = cv2.imread('image.jpg', 1)\n",
    "cv2.imshow('src', img)\n",
    "height = int(img.shape[0]*0.2)\n",
    "width = int(img.shape[1]*0.2)\n",
    "imgResize = cv2.resize(img,(width, height))\n",
    "for i in range(0,height):\n",
    "    for j in range(0,width):\n",
    "        img[i+50, j+150] = imgResize[i,j]\n",
    "cv2.imshow('dst', img)\n",
    "cv2.waitKey(0)"
   ]
  },
  {
   "cell_type": "code",
   "execution_count": null,
   "metadata": {},
   "outputs": [],
   "source": []
  }
 ],
 "metadata": {
  "kernelspec": {
   "display_name": "Python 3",
   "language": "python",
   "name": "python3"
  },
  "language_info": {
   "codemirror_mode": {
    "name": "ipython",
    "version": 3
   },
   "file_extension": ".py",
   "mimetype": "text/x-python",
   "name": "python",
   "nbconvert_exporter": "python",
   "pygments_lexer": "ipython3",
   "version": "3.6.8"
  }
 },
 "nbformat": 4,
 "nbformat_minor": 2
}
