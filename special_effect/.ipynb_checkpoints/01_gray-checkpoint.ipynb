{
 "cells": [
  {
   "cell_type": "code",
   "execution_count": null,
   "metadata": {},
   "outputs": [
    {
     "name": "stdout",
     "output_type": "stream",
     "text": [
      "(300, 300)\n",
      "(300, 300, 3)\n"
     ]
    }
   ],
   "source": [
    "# 方法一：imread\n",
    "import cv2\n",
    "img0 = cv2.imread('../opencv_basic/130402161P2_300.jpg', 0)\n",
    "img1 = cv2.imread('../opencv_basic/130402161P2_300.jpg', 1)\n",
    "print(img0.shape)\n",
    "print(img1.shape)\n",
    "cv2.imshow('src', img0)\n",
    "cv2.waitKey(0)"
   ]
  },
  {
   "cell_type": "code",
   "execution_count": null,
   "metadata": {},
   "outputs": [],
   "source": [
    "# 方法二：ctvColor\n",
    "import cv2\n",
    "img = cv2.imread('../opencv_basic/130402161P2_300.jpg', 1)\n",
    "dst = cv2.cvtColor(img, cv2.COLOR_BGR2GRAY) # 颜色空间转换 1 data 2 转换方式\n",
    "cv2.imshow('src', dst)\n",
    "cv2.waitKey(0)\n"
   ]
  },
  {
   "cell_type": "code",
   "execution_count": null,
   "metadata": {},
   "outputs": [],
   "source": []
  }
 ],
 "metadata": {
  "kernelspec": {
   "display_name": "Python 3",
   "language": "python",
   "name": "python3"
  },
  "language_info": {
   "codemirror_mode": {
    "name": "ipython",
    "version": 3
   },
   "file_extension": ".py",
   "mimetype": "text/x-python",
   "name": "python",
   "nbconvert_exporter": "python",
   "pygments_lexer": "ipython3",
   "version": "3.6.8"
  }
 },
 "nbformat": 4,
 "nbformat_minor": 2
}
